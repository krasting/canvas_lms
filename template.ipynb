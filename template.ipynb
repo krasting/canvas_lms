{
 "cells": [
  {
   "cell_type": "code",
   "execution_count": null,
   "id": "5646fcfa-9128-443d-abc1-74f37a0f6ba5",
   "metadata": {},
   "outputs": [],
   "source": [
    "import pandas as pd\n",
    "import numpy as np\n",
    "from canvas_lms import Gradebook, Group"
   ]
  },
  {
   "cell_type": "code",
   "execution_count": null,
   "id": "d0b1ff4a-baaf-4410-8d71-6aa31d754f2f",
   "metadata": {},
   "outputs": [],
   "source": [
    "G = Gradebook(\"\")"
   ]
  },
  {
   "cell_type": "code",
   "execution_count": null,
   "id": "6313ed96-5585-46d4-af3e-bb7b51bb8d87",
   "metadata": {},
   "outputs": [],
   "source": [
    "A = G.assignments[0]"
   ]
  },
  {
   "cell_type": "code",
   "execution_count": null,
   "id": "48de01a8-80e4-4591-8dd2-1111e275996a",
   "metadata": {},
   "outputs": [],
   "source": [
    "groups = [\n",
    "    Group(A,1,members=[]),\n",
    "    Group(A,2,members=[]),\n",
    "    Group(A,3,members=[]),\n",
    "    Group(A,4,members=[]),\n",
    "    Group(A,5,members=[]),\n",
    "    Group(A,6,members=[]),\n",
    "    Group(A,7,members=[]),\n",
    "    Group(A,8,members=[]),\n",
    "    Group(A,9,members=[]),\n",
    "    Group(A,10,members=[]),\n",
    "]"
   ]
  },
  {
   "cell_type": "code",
   "execution_count": null,
   "id": "2e92d26b-10a1-4b9c-b4c8-789b73d52326",
   "metadata": {},
   "outputs": [],
   "source": [
    "[x.update() for x in groups]"
   ]
  },
  {
   "cell_type": "code",
   "execution_count": null,
   "id": "9bea2ccd-dfb7-4ad4-b192-fa397ca17166",
   "metadata": {},
   "outputs": [],
   "source": [
    "summary = pd.DataFrame([x.to_dict() for x in sorted(groups)]).set_index(\"Group Number\")\n",
    "print(summary.to_html())\n",
    "summary"
   ]
  },
  {
   "cell_type": "code",
   "execution_count": null,
   "id": "cd21306c-634d-4307-bcad-2a92c6f0d120",
   "metadata": {},
   "outputs": [],
   "source": [
    "A.to_dataframe().to_csv(\"out.csv\")"
   ]
  }
 ],
 "metadata": {
  "kernelspec": {
   "display_name": "Python 3",
   "language": "python",
   "name": "python3"
  },
  "language_info": {
   "codemirror_mode": {
    "name": "ipython",
    "version": 3
   },
   "file_extension": ".py",
   "mimetype": "text/x-python",
   "name": "python",
   "nbconvert_exporter": "python",
   "pygments_lexer": "ipython3",
   "version": "3.9.5"
  }
 },
 "nbformat": 4,
 "nbformat_minor": 5
}
